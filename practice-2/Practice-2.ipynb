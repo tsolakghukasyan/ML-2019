{
 "cells": [
  {
   "cell_type": "markdown",
   "metadata": {},
   "source": [
    "# Практика 2\n",
    "\n",
    "ФИО:"
   ]
  },
  {
   "cell_type": "code",
   "execution_count": null,
   "metadata": {
    "collapsed": true
   },
   "outputs": [],
   "source": [
    "import numpy as np"
   ]
  },
  {
   "cell_type": "markdown",
   "metadata": {
    "collapsed": true
   },
   "source": [
    "### 1. Генерация данных"
   ]
  },
  {
   "cell_type": "markdown",
   "metadata": {},
   "source": [
    "Сгенерируем искусственные обучающие примеры, чтобы использовать в экспериментах. Для этого возьмем функцию y = 2x + 5, как истинную зависимость между признаком x и ответом y, и с добавлением случайного шума сгенерируем 50 обучающих примеров."
   ]
  },
  {
   "cell_type": "code",
   "execution_count": null,
   "metadata": {
    "collapsed": false
   },
   "outputs": [],
   "source": [
    "def f(x):\n",
    "    return 2 * x + 5\n",
    "\n",
    "def generate_dataset(count=50, start=100, end=500):\n",
    "    step = (end - start) / count\n",
    "    x = []\n",
    "    y = []\n",
    "    for i in range(count):\n",
    "        x.append(start + i * step)\n",
    "        y.append(f(start + i * step) + np.random.uniform(-100, 100))\n",
    "    return x, y\n",
    "        \n",
    "x, y = generate_dataset()"
   ]
  },
  {
   "cell_type": "code",
   "execution_count": null,
   "metadata": {
    "collapsed": false
   },
   "outputs": [],
   "source": [
    "print(x)"
   ]
  },
  {
   "cell_type": "code",
   "execution_count": null,
   "metadata": {
    "collapsed": false
   },
   "outputs": [],
   "source": [
    "print(y)"
   ]
  },
  {
   "cell_type": "markdown",
   "metadata": {},
   "source": [
    "### 2. Визуализация данных (10 баллов)"
   ]
  },
  {
   "cell_type": "markdown",
   "metadata": {},
   "source": [
    "Нарисуйте сгенерированные точки и линию истинной функции зависимости y от x."
   ]
  },
  {
   "cell_type": "code",
   "execution_count": null,
   "metadata": {
    "collapsed": true
   },
   "outputs": [],
   "source": []
  },
  {
   "cell_type": "markdown",
   "metadata": {},
   "source": [
    "### 3. Реализация градиентного спуска (30 баллов)"
   ]
  },
  {
   "cell_type": "markdown",
   "metadata": {},
   "source": [
    "Допишите функцию gd, реализующую нахождение параметров линейной регрессии с помощью градиентного спуска. Параметры x_train и y_train хранят признаковые описания и ответы обучающих данных, k - количество итераций, alpha - скорость обучения.\n",
    "\n",
    "Функция должна возвращать 2 списка: список значений функции потерь для каждой итерации обучения и список финальных значений параметров.\n",
    "\n",
    "В реализации используйте следующую формулу для функции потерь:\n"
   ]
  },
  {
   "cell_type": "code",
   "execution_count": null,
   "metadata": {
    "collapsed": false
   },
   "outputs": [],
   "source": [
    "def gd(x_train, y_train, k=1000, alpha=0.1):\n",
    "    # ваша реализация"
   ]
  },
  {
   "cell_type": "markdown",
   "metadata": {},
   "source": [
    "### 4. Реализация стохастического градиентного спуска (30 баллов)"
   ]
  },
  {
   "cell_type": "markdown",
   "metadata": {},
   "source": [
    "Допишите функцию sgd, реализующую нахождение параметров линейной регрессии с помощью стохастического градиентного спуска. Параметры x_train и y_train хранят признаковые описания и ответы обучающих данных, k - количество итераций, alpha - скорость обучения.\n",
    "\n",
    "Функция должна возвращать 2 списка: список значений функции потерь для каждой итерации обучения и список финальных значений параметров.\n",
    "\n",
    "В реализации используйте следующую формулу для функции потерь:\n"
   ]
  },
  {
   "cell_type": "code",
   "execution_count": null,
   "metadata": {
    "collapsed": true
   },
   "outputs": [],
   "source": [
    "def sgd(x_train, y_train, k=1000, alpha=0.1):\n",
    "    # ваша реализация"
   ]
  },
  {
   "cell_type": "markdown",
   "metadata": {},
   "source": [
    "С помощью ваших реализаций gd и sgd, на сгенерированных данных обучите модели линейной регрессии. Нарисуйте и сравните график зависимости значения функции потерь от итераций обучения для gd и sgd. На основе графика, какой из алгоритмов быстрее сходится?"
   ]
  },
  {
   "cell_type": "code",
   "execution_count": null,
   "metadata": {
    "collapsed": true
   },
   "outputs": [],
   "source": []
  },
  {
   "cell_type": "markdown",
   "metadata": {},
   "source": [
    "### 6. Сравнение с scikit-learn (20 баллов)"
   ]
  },
  {
   "cell_type": "markdown",
   "metadata": {},
   "source": [
    "С помощью LinearRegression из sklearn.linear_model, постройте модель регрессии на тех же данных."
   ]
  },
  {
   "cell_type": "code",
   "execution_count": null,
   "metadata": {
    "collapsed": true
   },
   "outputs": [],
   "source": []
  },
  {
   "cell_type": "markdown",
   "metadata": {},
   "source": [
    "Сравните значения метрик MSE, MAE для построенных моделей. Для этого можно использовать mean_absolute_error и mean_squared_error из sklearn.metrics."
   ]
  },
  {
   "cell_type": "code",
   "execution_count": null,
   "metadata": {
    "collapsed": true
   },
   "outputs": [],
   "source": []
  },
  {
   "cell_type": "markdown",
   "metadata": {},
   "source": [
    "### 5. Визуализация решений (10 баллов)"
   ]
  },
  {
   "cell_type": "markdown",
   "metadata": {},
   "source": [
    "На одном графике нарисуйте использованные данные и линии, найденные алгоритмами."
   ]
  },
  {
   "cell_type": "code",
   "execution_count": null,
   "metadata": {
    "collapsed": true
   },
   "outputs": [],
   "source": []
  }
 ],
 "metadata": {
  "anaconda-cloud": {},
  "kernelspec": {
   "display_name": "Python [default]",
   "language": "python",
   "name": "python3"
  },
  "language_info": {
   "codemirror_mode": {
    "name": "ipython",
    "version": 3
   },
   "file_extension": ".py",
   "mimetype": "text/x-python",
   "name": "python",
   "nbconvert_exporter": "python",
   "pygments_lexer": "ipython3",
   "version": "3.5.2"
  }
 },
 "nbformat": 4,
 "nbformat_minor": 2
}
